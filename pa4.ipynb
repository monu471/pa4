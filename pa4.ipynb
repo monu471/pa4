{
 "cells": [
  {
   "cell_type": "markdown",
   "id": "4d48a51a",
   "metadata": {},
   "source": [
    "### Q1. Which two operator overloading methods can you use in your classes to support iteration?\n",
    "\n",
    "The two operator overloading methods that can be used in classes to support iteration are the __iter__() and __next__() methods.\n",
    "\n",
    "The __iter__() method returns an iterator object and is called when an iteration begins on an object. This method should return self.\n",
    "\n",
    "The __next__() method returns the next value in the iteration and is called at every iteration. It should raise StopIteration when there are no more items to return."
   ]
  },
  {
   "cell_type": "markdown",
   "id": "b94c9130",
   "metadata": {},
   "source": [
    "### Q2. In what contexts do the two operator overloading methods manage printing?\n",
    "\n",
    "The two operator overloading methods that manage printing are the __str__() and __repr__() methods.\n",
    "\n",
    "The __str__() method should return a string that is a human-readable representation of the object. This method is called by the built-in print() function, the str() built-in function, and when a user tries to print an instance of the class.\n",
    "\n",
    "The __repr__() method should return a string that is a representation of the object that can be used to recreate the object. This method is called by the built-in repr() function, the interactive interpreter, and by other methods that try to get a string representation of the object."
   ]
  },
  {
   "cell_type": "markdown",
   "id": "189c1710",
   "metadata": {},
   "source": [
    "#### Q3. In a class, how do you intercept slice operations?\n",
    "\n",
    "In a class, you can intercept slice operations by defining the __getitem__() and __setitem__() methods. These methods allow you to define how slice operations should behave for instances of your class.\n",
    "\n",
    "The __getitem__() method is called when an instance of your class is used in a slice operation as an object to be indexed. It should take a single argument, the index or slice, and return the appropriate value.\n",
    "\n",
    "The __setitem__() method is called when an instance of your class is used in a slice operation as an object on the left side of an assignment. It should take two arguments, the index or slice and the value to be assigned."
   ]
  },
  {
   "cell_type": "markdown",
   "id": "058edcb4",
   "metadata": {},
   "source": [
    "### Q4. In a class, how do you capture in-place addition?\n",
    "\n",
    "In a class, you can capture in-place addition by defining the __iadd__() method. This method, also known as \"in-place addition\", is called when the \"+=\" operator is used on an instance of your class.\n",
    "It should take a single argument, the value to add to the object, and return the updated object."
   ]
  },
  {
   "cell_type": "code",
   "execution_count": null,
   "id": "7f74f852",
   "metadata": {},
   "outputs": [],
   "source": [
    "Q5. When is it appropriate to use operator overloading?\n",
    "\n"
   ]
  }
 ],
 "metadata": {
  "kernelspec": {
   "display_name": "Python 3 (ipykernel)",
   "language": "python",
   "name": "python3"
  },
  "language_info": {
   "codemirror_mode": {
    "name": "ipython",
    "version": 3
   },
   "file_extension": ".py",
   "mimetype": "text/x-python",
   "name": "python",
   "nbconvert_exporter": "python",
   "pygments_lexer": "ipython3",
   "version": "3.9.12"
  }
 },
 "nbformat": 4,
 "nbformat_minor": 5
}
